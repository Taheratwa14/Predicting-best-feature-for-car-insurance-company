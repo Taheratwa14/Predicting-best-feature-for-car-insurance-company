{
 "cells": [
  {
   "cell_type": "markdown",
   "id": "0cc2c4db-a413-4667-b2de-687746924c32",
   "metadata": {},
   "source": [
    "# Packages"
   ]
  },
  {
   "cell_type": "code",
   "execution_count": 34,
   "id": "865cb8c7-bc66-4c02-b6ec-c49b59fa6056",
   "metadata": {},
   "outputs": [],
   "source": [
    "import numpy as np\n",
    "import pandas as pd\n",
    "import matplotlib.pyplot as plt\n",
    "import seaborn as sns "
   ]
  },
  {
   "cell_type": "markdown",
   "id": "ab9adeef-c56e-45cf-8c85-1a6befabddea",
   "metadata": {},
   "source": [
    "## Dataset"
   ]
  },
  {
   "cell_type": "code",
   "execution_count": 4,
   "id": "837ce821-8e8a-4281-a376-5b015bd31e4a",
   "metadata": {},
   "outputs": [],
   "source": [
    "df_crime=pd.read_csv(\"D:\\Projects\\Analyzing crime in LA\\crimes.csv\",parse_dates=[\"DATE OCC\",\"Date Rptd\"])"
   ]
  },
  {
   "cell_type": "markdown",
   "id": "3a831c77-dcaf-47a2-bf7e-2e1046e9b6fc",
   "metadata": {},
   "source": [
    "## EDA"
   ]
  },
  {
   "cell_type": "code",
   "execution_count": 32,
   "id": "b2069f71-b133-414f-8098-0c0cc3d4534d",
   "metadata": {},
   "outputs": [
    {
     "data": {
      "text/html": [
       "<div>\n",
       "<style scoped>\n",
       "    .dataframe tbody tr th:only-of-type {\n",
       "        vertical-align: middle;\n",
       "    }\n",
       "\n",
       "    .dataframe tbody tr th {\n",
       "        vertical-align: top;\n",
       "    }\n",
       "\n",
       "    .dataframe thead th {\n",
       "        text-align: right;\n",
       "    }\n",
       "</style>\n",
       "<table border=\"1\" class=\"dataframe\">\n",
       "  <thead>\n",
       "    <tr style=\"text-align: right;\">\n",
       "      <th></th>\n",
       "      <th>DR_NO</th>\n",
       "      <th>Date Rptd</th>\n",
       "      <th>DATE OCC</th>\n",
       "      <th>TIME OCC</th>\n",
       "      <th>AREA NAME</th>\n",
       "      <th>Crm Cd Desc</th>\n",
       "      <th>Vict Age</th>\n",
       "      <th>Vict Sex</th>\n",
       "      <th>Vict Descent</th>\n",
       "      <th>Weapon Desc</th>\n",
       "      <th>Status Desc</th>\n",
       "      <th>LOCATION</th>\n",
       "      <th>crime_hour</th>\n",
       "    </tr>\n",
       "  </thead>\n",
       "  <tbody>\n",
       "    <tr>\n",
       "      <th>0</th>\n",
       "      <td>221412410</td>\n",
       "      <td>2022-06-15</td>\n",
       "      <td>2020-11-12</td>\n",
       "      <td>1700</td>\n",
       "      <td>Pacific</td>\n",
       "      <td>THEFT FROM MOTOR VEHICLE - PETTY ($950 &amp; UNDER)</td>\n",
       "      <td>0</td>\n",
       "      <td>NaN</td>\n",
       "      <td>NaN</td>\n",
       "      <td>NaN</td>\n",
       "      <td>Invest Cont</td>\n",
       "      <td>13600    MARINA POINT                 DR</td>\n",
       "      <td>17</td>\n",
       "    </tr>\n",
       "    <tr>\n",
       "      <th>1</th>\n",
       "      <td>220314085</td>\n",
       "      <td>2022-07-22</td>\n",
       "      <td>2020-05-12</td>\n",
       "      <td>1110</td>\n",
       "      <td>Southwest</td>\n",
       "      <td>THEFT OF IDENTITY</td>\n",
       "      <td>27</td>\n",
       "      <td>F</td>\n",
       "      <td>B</td>\n",
       "      <td>NaN</td>\n",
       "      <td>Invest Cont</td>\n",
       "      <td>2500 S  SYCAMORE                     AV</td>\n",
       "      <td>11</td>\n",
       "    </tr>\n",
       "  </tbody>\n",
       "</table>\n",
       "</div>"
      ],
      "text/plain": [
       "       DR_NO  Date Rptd   DATE OCC  TIME OCC  AREA NAME  \\\n",
       "0  221412410 2022-06-15 2020-11-12      1700    Pacific   \n",
       "1  220314085 2022-07-22 2020-05-12      1110  Southwest   \n",
       "\n",
       "                                       Crm Cd Desc  Vict Age Vict Sex  \\\n",
       "0  THEFT FROM MOTOR VEHICLE - PETTY ($950 & UNDER)         0      NaN   \n",
       "1                                THEFT OF IDENTITY        27        F   \n",
       "\n",
       "  Vict Descent Weapon Desc  Status Desc  \\\n",
       "0          NaN         NaN  Invest Cont   \n",
       "1            B         NaN  Invest Cont   \n",
       "\n",
       "                                   LOCATION  crime_hour  \n",
       "0  13600    MARINA POINT                 DR          17  \n",
       "1   2500 S  SYCAMORE                     AV          11  "
      ]
     },
     "execution_count": 32,
     "metadata": {},
     "output_type": "execute_result"
    }
   ],
   "source": [
    "df_crime.head(2)"
   ]
  },
  {
   "cell_type": "code",
   "execution_count": 30,
   "id": "930a4482-4809-401f-a6be-5aa30f7c6cda",
   "metadata": {},
   "outputs": [
    {
     "name": "stdout",
     "output_type": "stream",
     "text": [
      "<class 'pandas.core.frame.DataFrame'>\n",
      "RangeIndex: 247988 entries, 0 to 247987\n",
      "Data columns (total 13 columns):\n",
      " #   Column        Non-Null Count   Dtype         \n",
      "---  ------        --------------   -----         \n",
      " 0   DR_NO         247988 non-null  int64         \n",
      " 1   Date Rptd     247988 non-null  datetime64[ns]\n",
      " 2   DATE OCC      247988 non-null  datetime64[ns]\n",
      " 3   TIME OCC      247988 non-null  int32         \n",
      " 4   AREA NAME     247988 non-null  object        \n",
      " 5   Crm Cd Desc   247988 non-null  object        \n",
      " 6   Vict Age      247988 non-null  int64         \n",
      " 7   Vict Sex      215740 non-null  object        \n",
      " 8   Vict Descent  215739 non-null  object        \n",
      " 9   Weapon Desc   80087 non-null   object        \n",
      " 10  Status Desc   247988 non-null  object        \n",
      " 11  LOCATION      247988 non-null  object        \n",
      " 12  crime_hour    247988 non-null  int32         \n",
      "dtypes: datetime64[ns](2), int32(2), int64(2), object(7)\n",
      "memory usage: 22.7+ MB\n"
     ]
    }
   ],
   "source": [
    "df_crime.info()"
   ]
  },
  {
   "cell_type": "markdown",
   "id": "bae0a99b-4c58-4caa-abdc-bc03179fd7ef",
   "metadata": {},
   "source": [
    "### Creating a new column for crime hour "
   ]
  },
  {
   "cell_type": "code",
   "execution_count": 27,
   "id": "94f35c8e-b626-4a33-8608-3b707a64a3dc",
   "metadata": {},
   "outputs": [],
   "source": [
    "df_crime[\"TIME OCC\"]=df_crime[\"TIME OCC\"].astype(str)"
   ]
  },
  {
   "cell_type": "code",
   "execution_count": 26,
   "id": "3905b3f9-e7c5-4f1a-b951-ab96cd76a117",
   "metadata": {},
   "outputs": [],
   "source": [
    "df_crime[\"crime_hour\"]=df_crime[\"TIME OCC\"].str[0:2].astype(int)"
   ]
  },
  {
   "cell_type": "code",
   "execution_count": 29,
   "id": "97439c58-bada-4894-a5ad-b4596a7ecb4b",
   "metadata": {},
   "outputs": [],
   "source": [
    "df_crime[\"TIME OCC\"]=df_crime[\"TIME OCC\"].astype(int)"
   ]
  },
  {
   "cell_type": "markdown",
   "id": "6d80b317-c886-4472-ad28-4a34b9140e5c",
   "metadata": {},
   "source": [
    "### Which hour has the highest frequency of crimes"
   ]
  },
  {
   "cell_type": "code",
   "execution_count": 31,
   "id": "a3fc90b7-67a1-410b-ad38-a7d5334d0269",
   "metadata": {},
   "outputs": [
    {
     "data": {
      "text/plain": [
       "crime_hour\n",
       "12    17760\n",
       "20    16285\n",
       "18    14471\n",
       "10    14425\n",
       "17    14127\n",
       "      ...  \n",
       "59       14\n",
       "36       14\n",
       "27       14\n",
       "29       12\n",
       "56       11\n",
       "Name: count, Length: 83, dtype: int64"
      ]
     },
     "execution_count": 31,
     "metadata": {},
     "output_type": "execute_result"
    }
   ],
   "source": [
    "df_crime[\"crime_hour\"].value_counts()"
   ]
  },
  {
   "cell_type": "code",
   "execution_count": 35,
   "id": "1c9bae34-cc2b-4a3c-a043-ee4a3f5daa28",
   "metadata": {},
   "outputs": [],
   "source": [
    "peak_crime_hour=12"
   ]
  },
  {
   "cell_type": "markdown",
   "id": "bc6a4931-b2d4-4073-9496-a83616a77f29",
   "metadata": {},
   "source": [
    "### Which area has the largest frequency of night crimes (crimes committed between 10pm and 3:59am)"
   ]
  },
  {
   "cell_type": "code",
   "execution_count": 36,
   "id": "ab5259ac-054f-4a89-bec8-535083efeec1",
   "metadata": {},
   "outputs": [
    {
     "data": {
      "text/html": [
       "<div>\n",
       "<style scoped>\n",
       "    .dataframe tbody tr th:only-of-type {\n",
       "        vertical-align: middle;\n",
       "    }\n",
       "\n",
       "    .dataframe tbody tr th {\n",
       "        vertical-align: top;\n",
       "    }\n",
       "\n",
       "    .dataframe thead th {\n",
       "        text-align: right;\n",
       "    }\n",
       "</style>\n",
       "<table border=\"1\" class=\"dataframe\">\n",
       "  <thead>\n",
       "    <tr style=\"text-align: right;\">\n",
       "      <th></th>\n",
       "      <th>DR_NO</th>\n",
       "      <th>Date Rptd</th>\n",
       "      <th>DATE OCC</th>\n",
       "      <th>TIME OCC</th>\n",
       "      <th>AREA NAME</th>\n",
       "      <th>Crm Cd Desc</th>\n",
       "      <th>Vict Age</th>\n",
       "      <th>Vict Sex</th>\n",
       "      <th>Vict Descent</th>\n",
       "      <th>Weapon Desc</th>\n",
       "      <th>Status Desc</th>\n",
       "      <th>LOCATION</th>\n",
       "      <th>crime_hour</th>\n",
       "    </tr>\n",
       "  </thead>\n",
       "  <tbody>\n",
       "    <tr>\n",
       "      <th>9</th>\n",
       "      <td>231207476</td>\n",
       "      <td>2023-02-27</td>\n",
       "      <td>2020-08-15</td>\n",
       "      <td>1</td>\n",
       "      <td>77th Street</td>\n",
       "      <td>BURGLARY</td>\n",
       "      <td>72</td>\n",
       "      <td>M</td>\n",
       "      <td>B</td>\n",
       "      <td>NaN</td>\n",
       "      <td>Invest Cont</td>\n",
       "      <td>8800    HAAS                         AV</td>\n",
       "      <td>1</td>\n",
       "    </tr>\n",
       "    <tr>\n",
       "      <th>36</th>\n",
       "      <td>221314362</td>\n",
       "      <td>2022-07-11</td>\n",
       "      <td>2020-04-07</td>\n",
       "      <td>1</td>\n",
       "      <td>Newton</td>\n",
       "      <td>THEFT OF IDENTITY</td>\n",
       "      <td>53</td>\n",
       "      <td>F</td>\n",
       "      <td>H</td>\n",
       "      <td>NaN</td>\n",
       "      <td>Invest Cont</td>\n",
       "      <td>1600 E  OLYMPIC                      BL</td>\n",
       "      <td>1</td>\n",
       "    </tr>\n",
       "  </tbody>\n",
       "</table>\n",
       "</div>"
      ],
      "text/plain": [
       "        DR_NO  Date Rptd   DATE OCC  TIME OCC    AREA NAME        Crm Cd Desc  \\\n",
       "9   231207476 2023-02-27 2020-08-15         1  77th Street           BURGLARY   \n",
       "36  221314362 2022-07-11 2020-04-07         1       Newton  THEFT OF IDENTITY   \n",
       "\n",
       "    Vict Age Vict Sex Vict Descent Weapon Desc  Status Desc  \\\n",
       "9         72        M            B         NaN  Invest Cont   \n",
       "36        53        F            H         NaN  Invest Cont   \n",
       "\n",
       "                                   LOCATION  crime_hour  \n",
       "9   8800    HAAS                         AV           1  \n",
       "36  1600 E  OLYMPIC                      BL           1  "
      ]
     },
     "execution_count": 36,
     "metadata": {},
     "output_type": "execute_result"
    }
   ],
   "source": [
    "Area_high_crime=df_crime[df_crime[\"crime_hour\"].isin([22,23,24,0,1,2,3])]\n",
    "Area_high_crime.head(2)"
   ]
  },
  {
   "cell_type": "code",
   "execution_count": 39,
   "id": "af1e8689-ba8c-49cd-a72f-52b0007e60e7",
   "metadata": {},
   "outputs": [],
   "source": [
    "peak_area_night=Area_high_crime.groupby(\"AREA NAME\").agg({\"crime_hour\":\"count\"}).sort_values(\"crime_hour\",ascending=False)\n",
    "peak_area_night\n",
    "peak_night_crime_location=\"Central\""
   ]
  },
  {
   "cell_type": "markdown",
   "id": "7c88eff3-64bc-4514-b40b-d62750d5d583",
   "metadata": {},
   "source": [
    "### Identify the number of crimes committed against victims by age group (0-17, 18-25, 26-34, 35-44, 45-54, 55-64, 65+)"
   ]
  },
  {
   "cell_type": "code",
   "execution_count": 44,
   "id": "a61b6d42-be83-4eac-af36-83ce04a3a7cc",
   "metadata": {},
   "outputs": [],
   "source": [
    "age_labels=[\"0-17\",\"18-25\", \"26-34\", \"35-44\",\"45-54\",\"55-64\",\"65+\"]\n",
    "age_bins=[0,17,25,34,44,54,64,np.inf]\n",
    "df_crime[\"victim_ages\"]=pd.cut(df_crime[\"Vict Age\"],labels=age_labels,bins=age_bins)"
   ]
  },
  {
   "cell_type": "code",
   "execution_count": 45,
   "id": "1a6f05fb-abaa-4568-809c-223b4207b609",
   "metadata": {
    "scrolled": true
   },
   "outputs": [
    {
     "data": {
      "text/plain": [
       "victim_ages\n",
       "26-34    47470\n",
       "35-44    42157\n",
       "45-54    28353\n",
       "18-25    28291\n",
       "55-64    20169\n",
       "65+      14747\n",
       "0-17      4528\n",
       "Name: count, dtype: int64"
      ]
     },
     "execution_count": 45,
     "metadata": {},
     "output_type": "execute_result"
    }
   ],
   "source": [
    "df_crime[\"victim_ages\"].value_counts()"
   ]
  },
  {
   "cell_type": "code",
   "execution_count": null,
   "id": "8dfe2dbe-9b47-44a7-a260-a1009b321073",
   "metadata": {},
   "outputs": [],
   "source": []
  }
 ],
 "metadata": {
  "kernelspec": {
   "display_name": "Python 3 (ipykernel)",
   "language": "python",
   "name": "python3"
  },
  "language_info": {
   "codemirror_mode": {
    "name": "ipython",
    "version": 3
   },
   "file_extension": ".py",
   "mimetype": "text/x-python",
   "name": "python",
   "nbconvert_exporter": "python",
   "pygments_lexer": "ipython3",
   "version": "3.11.7"
  }
 },
 "nbformat": 4,
 "nbformat_minor": 5
}
